{
 "cells": [
  {
   "cell_type": "code",
   "execution_count": 3,
   "metadata": {},
   "outputs": [],
   "source": [
    "import numpy as np\n",
    "import os\n",
    "import PIL\n",
    "import PIL.Image\n",
    "import tensorflow as tf\n",
    "import tensorflow_datasets as tfds\n",
    "import IPython.display as display\n",
    "from tqdm import tqdm\n",
    "import random"
   ]
  },
  {
   "cell_type": "code",
   "execution_count": 55,
   "metadata": {},
   "outputs": [
    {
     "name": "stdout",
     "output_type": "stream",
     "text": [
      "이미지 갯수:  203"
     ]
    },
    {
     "name": "stderr",
     "output_type": "stream",
     "text": [
      "\n",
      "20220713221322.370 폴더 작업중:   0%|          | 0/94 [00:00<?, ?it/s]\n",
      "20220713221322.370 폴더 작업중: 100%|██████████| 94/94 [00:00<?, ?it/s]\n",
      "\n",
      "20220713221444.370 폴더 작업중:   0%|          | 0/47 [00:00<?, ?it/s]\n",
      "20220713221444.370 폴더 작업중: 100%|██████████| 47/47 [00:00<?, ?it/s]\n",
      "\n",
      "20220713221512.817 폴더 작업중:   0%|          | 0/23 [00:00<?, ?it/s]\n",
      "20220713221512.817 폴더 작업중: 100%|██████████| 23/23 [00:00<00:00, 23001.67it/s]\n",
      "\n",
      "20220713221533.817 폴더 작업중:   0%|          | 0/39 [00:00<?, ?it/s]\n",
      "20220713221533.817 폴더 작업중: 100%|██████████| 39/39 [00:00<?, ?it/s]\n",
      "\n",
      "  0%|          | 0/203 [00:00<?, ?it/s]2022-07-14 10:51:24.926211: I tensorflow/core/platform/cpu_feature_guard.cc:193] This TensorFlow binary is optimized with oneAPI Deep Neural Network Library (oneDNN) to use the following CPU instructions in performance-critical operations:  AVX AVX2\n",
      "To enable them in other operations, rebuild TensorFlow with the appropriate compiler flags.\n",
      "2022-07-14 10:51:25.598450: I tensorflow/core/common_runtime/gpu/gpu_device.cc:1532] Created device /job:localhost/replica:0/task:0/device:GPU:0 with 2151 MB memory:  -> device: 0, name: NVIDIA GeForce GTX 1650 Ti, pci bus id: 0000:01:00.0, compute capability: 7.5\n",
      "\n",
      "  0%|          | 1/203 [00:01<03:56,  1.17s/it]\n",
      " 10%|█         | 21/203 [00:01<00:08, 22.37it/s]\n",
      " 20%|█▉        | 40/203 [00:01<00:03, 44.67it/s]\n",
      " 27%|██▋       | 55/203 [00:01<00:02, 60.95it/s]\n",
      " 35%|███▌      | 72/203 [00:01<00:01, 80.64it/s]\n",
      " 44%|████▍     | 89/203 [00:01<00:01, 98.19it/s]\n",
      " 52%|█████▏    | 106/203 [00:01<00:00, 113.47it/s]\n",
      " 60%|██████    | 122/203 [00:01<00:00, 123.28it/s]\n",
      " 68%|██████▊   | 138/203 [00:02<00:00, 131.27it/s]\n",
      " 76%|███████▌  | 154/203 [00:02<00:00, 134.23it/s]\n",
      " 84%|████████▎ | 170/203 [00:02<00:00, 123.87it/s]\n",
      " 92%|█████████▏| 186/203 [00:02<00:00, 131.97it/s]\n",
      "100%|█████████▉| 202/203 [00:02<00:00, 137.17it/s]\n",
      "100%|██████████| 203/203 [00:02<00:00, 81.62it/s] \n"
     ]
    },
    {
     "name": "stdout",
     "output_type": "stream",
     "text": [
      "\n"
     ]
    }
   ],
   "source": [
    "!python read_data.py ../data/images/ ../data/face_data.tfrecord"
   ]
  },
  {
   "cell_type": "code",
   "execution_count": 56,
   "metadata": {},
   "outputs": [
    {
     "data": {
      "text/plain": [
       "<MapDataset element_spec={'class': TensorSpec(shape=(), dtype=tf.int64, name=None), 'image': TensorSpec(shape=(), dtype=tf.string, name=None)}>"
      ]
     },
     "execution_count": 56,
     "metadata": {},
     "output_type": "execute_result"
    }
   ],
   "source": [
    "filenames = '../data/face_data.tfrecord'\n",
    "raw_dataset = tf.data.TFRecordDataset(filenames)\n",
    "raw_dataset\n",
    "# Create a dictionary describing the features.\n",
    "image_feature_description = {\n",
    "    'image': tf.io.FixedLenFeature([], tf.string),    \n",
    "    'class': tf.io.FixedLenFeature([], tf.int64),    \n",
    "}\n",
    "\n",
    "def _parse_image_function(example_proto):\n",
    "  # Parse the input tf.train.Example proto using the dictionary above.\n",
    "  return tf.io.parse_single_example(example_proto, image_feature_description)\n",
    "\n",
    "parsed_image_dataset = raw_dataset.map(_parse_image_function)\n",
    "parsed_image_dataset"
   ]
  },
  {
   "cell_type": "code",
   "execution_count": null,
   "metadata": {},
   "outputs": [],
   "source": [
    "for image_features in parsed_image_dataset:\n",
    "    image_raw = image_features['image'].numpy()\n",
    "display.display(display.Image(data=image_raw))"
   ]
  }
 ],
 "metadata": {
  "kernelspec": {
   "display_name": "Python 3.8.2 ('testdog')",
   "language": "python",
   "name": "python3"
  },
  "language_info": {
   "codemirror_mode": {
    "name": "ipython",
    "version": 3
   },
   "file_extension": ".py",
   "mimetype": "text/x-python",
   "name": "python",
   "nbconvert_exporter": "python",
   "pygments_lexer": "ipython3",
   "version": "3.8.2"
  },
  "orig_nbformat": 4,
  "vscode": {
   "interpreter": {
    "hash": "1f54138a9b3dfbafadfe22494856edc909d1102687b4772b2a4ca44239205ed9"
   }
  }
 },
 "nbformat": 4,
 "nbformat_minor": 2
}
