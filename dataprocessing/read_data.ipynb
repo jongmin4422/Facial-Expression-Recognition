{
 "cells": [
  {
   "cell_type": "code",
   "execution_count": 3,
   "metadata": {},
   "outputs": [],
   "source": [
    "import numpy as np\n",
    "import os\n",
    "import PIL\n",
    "import PIL.Image\n",
    "import tensorflow as tf\n",
    "import tensorflow_datasets as tfds\n",
    "import IPython.display as display\n",
    "from tqdm import tqdm\n",
    "import random"
   ]
  },
  {
   "cell_type": "code",
   "execution_count": 6,
   "metadata": {},
   "outputs": [
    {
     "data": {
      "text/plain": [
       "dict"
      ]
     },
     "execution_count": 6,
     "metadata": {},
     "output_type": "execute_result"
    }
   ],
   "source": [
    "d = {}\n",
    "d['dd'] = 0\n",
    "type(d)"
   ]
  },
  {
   "cell_type": "code",
   "execution_count": 22,
   "metadata": {},
   "outputs": [
    {
     "name": "stderr",
     "output_type": "stream",
     "text": [
      "20220713221322.370 폴더 작업중: 100%|██████████| 94/94 [00:00<00:00, 60479.30it/s]\n",
      "20220713221444.370 폴더 작업중: 100%|██████████| 47/47 [00:00<00:00, 47228.63it/s]\n",
      "20220713221512.817 폴더 작업중: 100%|██████████| 23/23 [00:00<00:00, 11509.07it/s]\n",
      "20220713221533.817 폴더 작업중: 100%|██████████| 39/39 [00:00<00:00, 38956.38it/s]\n"
     ]
    }
   ],
   "source": [
    "# 여러 개의 폴더에 있는 것 합치기\n",
    "images, label_list = [], []\n",
    "path = '../data/images/'\n",
    "for folder in os.listdir(path):\n",
    "    for image in tqdm(os.listdir(path+folder), desc=folder+\" 폴더 작업중\"):\n",
    "        if '.370' in folder:\n",
    "            images.append({'path': path+folder+\"/\"+image, 'class': 0})\n",
    "            label_list.append(0)\n",
    "        elif '.817' in folder:\n",
    "            images.append({'path': path+folder+\"/\"+image, 'class': 1})\n",
    "            label_list.append(1)\n",
    "# print('num_classes: ', len(set(label_list)))\n",
    "# encoder = class_one_hot_encoder(label_list)"
   ]
  },
  {
   "cell_type": "code",
   "execution_count": 33,
   "metadata": {},
   "outputs": [
    {
     "name": "stdout",
     "output_type": "stream",
     "text": [
      "1\n"
     ]
    }
   ],
   "source": [
    "image_class = images[1]['class']\n",
    "print(image_class)\n",
    "image_file = tf.io.decode_image(tf.io.read_file(images[1]['path'])).numpy()\n",
    "image_file = tf.image.resize(image_file, size=[256, 256])\n",
    "image_file = tf.io.encode_jpeg(tf.cast(image_file, dtype=tf.uint8)).numpy()\n",
    "record = tf.train.Example(\n",
    "    features=tf.train.Features(\n",
    "        feature={\n",
    "            'image': tf.train.Feature(bytes_list=tf.train.BytesList(value=[image_file])),\n",
    "            'class': tf.train.Feature(int64_list=tf.train.Int64List(value=[image_class])),\n",
    "            # 'bb_box': tf.train.Feature(float_list=tf.train.FloatList(value=bb_box_list)),\n",
    "            # 'landmark': tf.train.Feature(float_list=tf.train.FloatList(value=landmark_list))\n",
    "        }\n",
    "    )\n",
    ")\n",
    "# f.write(record.SerializeToString())"
   ]
  },
  {
   "cell_type": "code",
   "execution_count": 34,
   "metadata": {},
   "outputs": [
    {
     "name": "stderr",
     "output_type": "stream",
     "text": [
      "100%|██████████| 203/203 [00:07<00:00, 27.69it/s]"
     ]
    },
    {
     "name": "stdout",
     "output_type": "stream",
     "text": [
      "이미지 갯수:  203\n"
     ]
    },
    {
     "name": "stderr",
     "output_type": "stream",
     "text": [
      "\n"
     ]
    }
   ],
   "source": [
    "# write tfrecord\n",
    "save_path = '../data/face_data.tfrecord'\n",
    "i = 0\n",
    "random.shuffle(images)\n",
    "with tf.io.TFRecordWriter(save_path) as f:\n",
    "    for image in tqdm(images):\n",
    "\n",
    "        image_class = image['class']\n",
    "        # image_class = image_class.astype('int64')\n",
    "\n",
    "        try:\n",
    "            # image\n",
    "            image_file = tf.io.decode_image(tf.io.read_file(image['path'])).numpy()\n",
    "            image_file = tf.image.resize(image_file, size=[256, 256])\n",
    "            image_file = tf.io.encode_jpeg(tf.cast(image_file, dtype=tf.uint8)).numpy()\n",
    "            # image_width = int(image['@width'])\n",
    "            # image_height = int(image['@height'])\n",
    "\n",
    "            # image_box = image['box']\n",
    "            # top = int(image_box['@top'])\n",
    "            # left = int(image_box['@left'])\n",
    "            # width = int(image_box['@width'])\n",
    "            # height = int(image_box['@height'])\n",
    "            # bb_box_list = [top, left, width, height]\n",
    "            # bb_box_list = point_adjust(bb_box_list, image_width, image_height)\n",
    "\n",
    "            # # 'head_top', 'lear_base', 'lear_tip', 'leye, 'nose', 'rear_base', 'rear_tip', 'reye'\n",
    "            # # x,y 순서\n",
    "            # landmark_list = []\n",
    "            # for point in image_box['part']:\n",
    "            #     x = int(point['@x'])\n",
    "            #     y = int(point['@y'])\n",
    "            #     landmark_list.extend([x, y])\n",
    "            # landmark_list = point_adjust(landmark_list, image_width, image_height)\n",
    "\n",
    "            # record\n",
    "            record = tf.train.Example(\n",
    "                features=tf.train.Features(\n",
    "                    feature={\n",
    "                        'image': tf.train.Feature(bytes_list=tf.train.BytesList(value=[image_file])),\n",
    "                        'class': tf.train.Feature(int64_list=tf.train.Int64List(value=[image_class])),\n",
    "                        # 'bb_box': tf.train.Feature(float_list=tf.train.FloatList(value=bb_box_list)),\n",
    "                        # 'landmark': tf.train.Feature(float_list=tf.train.FloatList(value=landmark_list))\n",
    "                    }\n",
    "                )\n",
    "            )\n",
    "            f.write(record.SerializeToString())\n",
    "            i += 1\n",
    "        except Exception as e:\n",
    "            print(e, i)\n",
    "            continue\n",
    "\n",
    "print('이미지 갯수: ', i)\n"
   ]
  },
  {
   "cell_type": "code",
   "execution_count": 35,
   "metadata": {},
   "outputs": [
    {
     "data": {
      "text/plain": [
       "<TFRecordDatasetV2 element_spec=TensorSpec(shape=(), dtype=tf.string, name=None)>"
      ]
     },
     "execution_count": 35,
     "metadata": {},
     "output_type": "execute_result"
    }
   ],
   "source": [
    "filenames = '../data/face_data.tfrecord'\n",
    "raw_dataset = tf.data.TFRecordDataset(filenames)\n",
    "raw_dataset"
   ]
  },
  {
   "cell_type": "code",
   "execution_count": 40,
   "metadata": {},
   "outputs": [
    {
     "data": {
      "text/plain": [
       "<MapDataset element_spec={'class': TensorSpec(shape=(), dtype=tf.int64, name=None), 'image': TensorSpec(shape=(), dtype=tf.string, name=None)}>"
      ]
     },
     "execution_count": 40,
     "metadata": {},
     "output_type": "execute_result"
    }
   ],
   "source": [
    "# Create a dictionary describing the features.\n",
    "image_feature_description = {\n",
    "    'image': tf.io.FixedLenFeature([], tf.string),    \n",
    "    'class': tf.io.FixedLenFeature([], tf.int64),    \n",
    "}\n",
    "\n",
    "def _parse_image_function(example_proto):\n",
    "  # Parse the input tf.train.Example proto using the dictionary above.\n",
    "  return tf.io.parse_single_example(example_proto, image_feature_description)\n",
    "\n",
    "parsed_image_dataset = raw_dataset.map(_parse_image_function)\n",
    "parsed_image_dataset"
   ]
  },
  {
   "cell_type": "code",
   "execution_count": null,
   "metadata": {},
   "outputs": [],
   "source": [
    "for image_features in parsed_image_dataset:\n",
    "    image_raw = image_features['image'].numpy()\n",
    "display.display(display.Image(data=image_raw))"
   ]
  }
 ],
 "metadata": {
  "kernelspec": {
   "display_name": "Python 3.8.2 ('testdog')",
   "language": "python",
   "name": "python3"
  },
  "language_info": {
   "codemirror_mode": {
    "name": "ipython",
    "version": 3
   },
   "file_extension": ".py",
   "mimetype": "text/x-python",
   "name": "python",
   "nbconvert_exporter": "python",
   "pygments_lexer": "ipython3",
   "version": "3.8.2"
  },
  "orig_nbformat": 4,
  "vscode": {
   "interpreter": {
    "hash": "1f54138a9b3dfbafadfe22494856edc909d1102687b4772b2a4ca44239205ed9"
   }
  }
 },
 "nbformat": 4,
 "nbformat_minor": 2
}
