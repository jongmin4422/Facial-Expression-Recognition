{
 "cells": [
  {
   "cell_type": "code",
   "execution_count": 1,
   "metadata": {},
   "outputs": [],
   "source": [
    "import numpy as np\n",
    "import os\n",
    "import PIL\n",
    "import PIL.Image\n",
    "import tensorflow as tf\n",
    "import tensorflow_datasets as tfds\n",
    "import IPython.display as display\n",
    "from tqdm import tqdm\n",
    "import random\n",
    "import data_process"
   ]
  },
  {
   "cell_type": "code",
   "execution_count": 2,
   "metadata": {},
   "outputs": [
    {
     "name": "stderr",
     "output_type": "stream",
     "text": [
      "20220720234231.0 폴더 작업중: 100%|██████████| 48/48 [00:00<?, ?it/s]\n",
      "20220720234256.1 폴더 작업중: 100%|██████████| 33/33 [00:00<?, ?it/s]\n",
      "20220720234335.0 폴더 작업중: 100%|██████████| 27/27 [00:00<00:00, 27294.82it/s]\n",
      "20220720234347.1 폴더 작업중: 100%|██████████| 26/26 [00:00<?, ?it/s]\n",
      "이미지를 tfrecord에 저장중: 100%|██████████| 130/130 [00:00<00:00, 159.82it/s]"
     ]
    },
    {
     "name": "stdout",
     "output_type": "stream",
     "text": [
      "이미지 갯수:  130\n"
     ]
    },
    {
     "name": "stderr",
     "output_type": "stream",
     "text": [
      "\n"
     ]
    }
   ],
   "source": [
    "data_process.data_to_tfrecord(imagepath='../data/images/', outputpath='../data/face_data2.tfrecord')"
   ]
  },
  {
   "cell_type": "code",
   "execution_count": 56,
   "metadata": {},
   "outputs": [
    {
     "data": {
      "text/plain": [
       "<MapDataset element_spec={'class': TensorSpec(shape=(), dtype=tf.int64, name=None), 'image': TensorSpec(shape=(), dtype=tf.string, name=None)}>"
      ]
     },
     "execution_count": 56,
     "metadata": {},
     "output_type": "execute_result"
    }
   ],
   "source": [
    "filenames = '../data/face_data2.tfrecord'\n",
    "raw_dataset = tf.data.TFRecordDataset(filenames)\n",
    "raw_dataset\n",
    "# Create a dictionary describing the features.\n",
    "image_feature_description = {\n",
    "    'image': tf.io.FixedLenFeature([], tf.string),    \n",
    "    'class': tf.io.FixedLenFeature([], tf.int64),    \n",
    "}\n",
    "\n",
    "def _parse_image_function(example_proto): \n",
    "  # Parse the input tf.train.Example proto using the dictionary above.\n",
    "  return tf.io.parse_single_example(example_proto, image_feature_description)\n",
    "\n",
    "parsed_image_dataset = raw_dataset.map(_parse_image_function)\n",
    "parsed_image_dataset"
   ]
  },
  {
   "cell_type": "code",
   "execution_count": null,
   "metadata": {},
   "outputs": [],
   "source": [
    "for image_features in parsed_image_dataset:\n",
    "    image_raw = image_features['image'].numpy()\n",
    "display.display(display.Image(data=image_raw))"
   ]
  }
 ],
 "metadata": {
  "kernelspec": {
   "display_name": "Python 3.8.13 ('tfcpu')",
   "language": "python",
   "name": "python3"
  },
  "language_info": {
   "codemirror_mode": {
    "name": "ipython",
    "version": 3
   },
   "file_extension": ".py",
   "mimetype": "text/x-python",
   "name": "python",
   "nbconvert_exporter": "python",
   "pygments_lexer": "ipython3",
   "version": "3.8.13"
  },
  "orig_nbformat": 4,
  "vscode": {
   "interpreter": {
    "hash": "6d33ffa5208dd9358d696c42528b9cb72d52447a14e7c8b13c779f205529c40a"
   }
  }
 },
 "nbformat": 4,
 "nbformat_minor": 2
}
